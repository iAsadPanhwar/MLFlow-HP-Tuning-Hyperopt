{
 "cells": [
  {
   "cell_type": "code",
   "execution_count": 1,
   "metadata": {},
   "outputs": [],
   "source": [
    "import numpy as np\n",
    "from hyperopt import fmin, tpe, hp, Trials, STATUS_OK\n",
    "from sklearn.ensemble import RandomForestClassifier\n",
    "from sklearn.datasets import load_iris\n",
    "from sklearn.model_selection import cross_val_score\n",
    "import pandas as pd\n",
    "import mlflow\n",
    "from sklearn.preprocessing import StandardScaler, LabelEncoder\n",
    "from sklearn.model_selection import train_test_split\n",
    "from sklearn import set_config\n",
    "from sklearn.metrics import accuracy_score"
   ]
  },
  {
   "cell_type": "code",
   "execution_count": 2,
   "metadata": {},
   "outputs": [
    {
     "data": {
      "text/html": [
       "<div>\n",
       "<style scoped>\n",
       "    .dataframe tbody tr th:only-of-type {\n",
       "        vertical-align: middle;\n",
       "    }\n",
       "\n",
       "    .dataframe tbody tr th {\n",
       "        vertical-align: top;\n",
       "    }\n",
       "\n",
       "    .dataframe thead th {\n",
       "        text-align: right;\n",
       "    }\n",
       "</style>\n",
       "<table border=\"1\" class=\"dataframe\">\n",
       "  <thead>\n",
       "    <tr style=\"text-align: right;\">\n",
       "      <th></th>\n",
       "      <th>sepal length (cm)</th>\n",
       "      <th>sepal width (cm)</th>\n",
       "      <th>petal length (cm)</th>\n",
       "      <th>petal width (cm)</th>\n",
       "    </tr>\n",
       "  </thead>\n",
       "  <tbody>\n",
       "    <tr>\n",
       "      <th>0</th>\n",
       "      <td>5.1</td>\n",
       "      <td>3.5</td>\n",
       "      <td>1.4</td>\n",
       "      <td>0.2</td>\n",
       "    </tr>\n",
       "    <tr>\n",
       "      <th>1</th>\n",
       "      <td>4.9</td>\n",
       "      <td>3.0</td>\n",
       "      <td>1.4</td>\n",
       "      <td>0.2</td>\n",
       "    </tr>\n",
       "    <tr>\n",
       "      <th>2</th>\n",
       "      <td>4.7</td>\n",
       "      <td>3.2</td>\n",
       "      <td>1.3</td>\n",
       "      <td>0.2</td>\n",
       "    </tr>\n",
       "    <tr>\n",
       "      <th>3</th>\n",
       "      <td>4.6</td>\n",
       "      <td>3.1</td>\n",
       "      <td>1.5</td>\n",
       "      <td>0.2</td>\n",
       "    </tr>\n",
       "    <tr>\n",
       "      <th>4</th>\n",
       "      <td>5.0</td>\n",
       "      <td>3.6</td>\n",
       "      <td>1.4</td>\n",
       "      <td>0.2</td>\n",
       "    </tr>\n",
       "    <tr>\n",
       "      <th>...</th>\n",
       "      <td>...</td>\n",
       "      <td>...</td>\n",
       "      <td>...</td>\n",
       "      <td>...</td>\n",
       "    </tr>\n",
       "    <tr>\n",
       "      <th>145</th>\n",
       "      <td>6.7</td>\n",
       "      <td>3.0</td>\n",
       "      <td>5.2</td>\n",
       "      <td>2.3</td>\n",
       "    </tr>\n",
       "    <tr>\n",
       "      <th>146</th>\n",
       "      <td>6.3</td>\n",
       "      <td>2.5</td>\n",
       "      <td>5.0</td>\n",
       "      <td>1.9</td>\n",
       "    </tr>\n",
       "    <tr>\n",
       "      <th>147</th>\n",
       "      <td>6.5</td>\n",
       "      <td>3.0</td>\n",
       "      <td>5.2</td>\n",
       "      <td>2.0</td>\n",
       "    </tr>\n",
       "    <tr>\n",
       "      <th>148</th>\n",
       "      <td>6.2</td>\n",
       "      <td>3.4</td>\n",
       "      <td>5.4</td>\n",
       "      <td>2.3</td>\n",
       "    </tr>\n",
       "    <tr>\n",
       "      <th>149</th>\n",
       "      <td>5.9</td>\n",
       "      <td>3.0</td>\n",
       "      <td>5.1</td>\n",
       "      <td>1.8</td>\n",
       "    </tr>\n",
       "  </tbody>\n",
       "</table>\n",
       "<p>150 rows × 4 columns</p>\n",
       "</div>"
      ],
      "text/plain": [
       "     sepal length (cm)  sepal width (cm)  petal length (cm)  petal width (cm)\n",
       "0                  5.1               3.5                1.4               0.2\n",
       "1                  4.9               3.0                1.4               0.2\n",
       "2                  4.7               3.2                1.3               0.2\n",
       "3                  4.6               3.1                1.5               0.2\n",
       "4                  5.0               3.6                1.4               0.2\n",
       "..                 ...               ...                ...               ...\n",
       "145                6.7               3.0                5.2               2.3\n",
       "146                6.3               2.5                5.0               1.9\n",
       "147                6.5               3.0                5.2               2.0\n",
       "148                6.2               3.4                5.4               2.3\n",
       "149                5.9               3.0                5.1               1.8\n",
       "\n",
       "[150 rows x 4 columns]"
      ]
     },
     "execution_count": 2,
     "metadata": {},
     "output_type": "execute_result"
    }
   ],
   "source": [
    "# Load the dataset\n",
    "X,y = load_iris(return_X_y=True,as_frame=True)\n",
    "\n",
    "X"
   ]
  },
  {
   "cell_type": "code",
   "execution_count": 3,
   "metadata": {},
   "outputs": [],
   "source": [
    "set_config(transform_output='pandas')"
   ]
  },
  {
   "cell_type": "code",
   "execution_count": 4,
   "metadata": {},
   "outputs": [
    {
     "name": "stdout",
     "output_type": "stream",
     "text": [
      "The shape of the train data is (120, 4)\n",
      "The shape of the test data is  (30, 4)\n"
     ]
    }
   ],
   "source": [
    "# train test split\n",
    "\n",
    "random_state = 42\n",
    "test_size = 0.2\n",
    "\n",
    "X_train, X_test, y_train, y_test = train_test_split(X,y,test_size=test_size,random_state=random_state)\n",
    "\n",
    "print('The shape of the train data is',X_train.shape) \n",
    "print('The shape of the test data is ',X_test.shape)"
   ]
  },
  {
   "cell_type": "code",
   "execution_count": 5,
   "metadata": {},
   "outputs": [],
   "source": [
    "scaler = StandardScaler()\n",
    "\n",
    "label_encoder = LabelEncoder()\n",
    "\n",
    "# fit_transform on the train data\n",
    "X_train_trans = scaler.fit_transform(X_train)\n",
    "y_train = label_encoder.fit_transform(y_train)\n",
    "\n",
    "# transform on the test data\n",
    "X_test_trans = scaler.transform(X_test)\n",
    "y_test = label_encoder.transform(y_test)"
   ]
  },
  {
   "cell_type": "code",
   "execution_count": 6,
   "metadata": {},
   "outputs": [
    {
     "data": {
      "text/html": [
       "<div>\n",
       "<style scoped>\n",
       "    .dataframe tbody tr th:only-of-type {\n",
       "        vertical-align: middle;\n",
       "    }\n",
       "\n",
       "    .dataframe tbody tr th {\n",
       "        vertical-align: top;\n",
       "    }\n",
       "\n",
       "    .dataframe thead th {\n",
       "        text-align: right;\n",
       "    }\n",
       "</style>\n",
       "<table border=\"1\" class=\"dataframe\">\n",
       "  <thead>\n",
       "    <tr style=\"text-align: right;\">\n",
       "      <th></th>\n",
       "      <th>sepal length (cm)</th>\n",
       "      <th>sepal width (cm)</th>\n",
       "      <th>petal length (cm)</th>\n",
       "      <th>petal width (cm)</th>\n",
       "    </tr>\n",
       "  </thead>\n",
       "  <tbody>\n",
       "    <tr>\n",
       "      <th>22</th>\n",
       "      <td>-1.473937</td>\n",
       "      <td>1.203658</td>\n",
       "      <td>-1.562535</td>\n",
       "      <td>-1.312603</td>\n",
       "    </tr>\n",
       "    <tr>\n",
       "      <th>15</th>\n",
       "      <td>-0.133071</td>\n",
       "      <td>2.992376</td>\n",
       "      <td>-1.276006</td>\n",
       "      <td>-1.045633</td>\n",
       "    </tr>\n",
       "    <tr>\n",
       "      <th>65</th>\n",
       "      <td>1.085898</td>\n",
       "      <td>0.085709</td>\n",
       "      <td>0.385858</td>\n",
       "      <td>0.289218</td>\n",
       "    </tr>\n",
       "    <tr>\n",
       "      <th>11</th>\n",
       "      <td>-1.230143</td>\n",
       "      <td>0.756479</td>\n",
       "      <td>-1.218701</td>\n",
       "      <td>-1.312603</td>\n",
       "    </tr>\n",
       "    <tr>\n",
       "      <th>42</th>\n",
       "      <td>-1.717731</td>\n",
       "      <td>0.309299</td>\n",
       "      <td>-1.390618</td>\n",
       "      <td>-1.312603</td>\n",
       "    </tr>\n",
       "    <tr>\n",
       "      <th>...</th>\n",
       "      <td>...</td>\n",
       "      <td>...</td>\n",
       "      <td>...</td>\n",
       "      <td>...</td>\n",
       "    </tr>\n",
       "    <tr>\n",
       "      <th>71</th>\n",
       "      <td>0.354517</td>\n",
       "      <td>-0.585060</td>\n",
       "      <td>0.156636</td>\n",
       "      <td>0.155733</td>\n",
       "    </tr>\n",
       "    <tr>\n",
       "      <th>106</th>\n",
       "      <td>-1.108246</td>\n",
       "      <td>-1.255829</td>\n",
       "      <td>0.443164</td>\n",
       "      <td>0.689673</td>\n",
       "    </tr>\n",
       "    <tr>\n",
       "      <th>14</th>\n",
       "      <td>-0.011174</td>\n",
       "      <td>2.098017</td>\n",
       "      <td>-1.447923</td>\n",
       "      <td>-1.312603</td>\n",
       "    </tr>\n",
       "    <tr>\n",
       "      <th>92</th>\n",
       "      <td>-0.011174</td>\n",
       "      <td>-1.032239</td>\n",
       "      <td>0.156636</td>\n",
       "      <td>0.022248</td>\n",
       "    </tr>\n",
       "    <tr>\n",
       "      <th>102</th>\n",
       "      <td>1.573486</td>\n",
       "      <td>-0.137880</td>\n",
       "      <td>1.245443</td>\n",
       "      <td>1.223613</td>\n",
       "    </tr>\n",
       "  </tbody>\n",
       "</table>\n",
       "<p>120 rows × 4 columns</p>\n",
       "</div>"
      ],
      "text/plain": [
       "     sepal length (cm)  sepal width (cm)  petal length (cm)  petal width (cm)\n",
       "22           -1.473937          1.203658          -1.562535         -1.312603\n",
       "15           -0.133071          2.992376          -1.276006         -1.045633\n",
       "65            1.085898          0.085709           0.385858          0.289218\n",
       "11           -1.230143          0.756479          -1.218701         -1.312603\n",
       "42           -1.717731          0.309299          -1.390618         -1.312603\n",
       "..                 ...               ...                ...               ...\n",
       "71            0.354517         -0.585060           0.156636          0.155733\n",
       "106          -1.108246         -1.255829           0.443164          0.689673\n",
       "14           -0.011174          2.098017          -1.447923         -1.312603\n",
       "92           -0.011174         -1.032239           0.156636          0.022248\n",
       "102           1.573486         -0.137880           1.245443          1.223613\n",
       "\n",
       "[120 rows x 4 columns]"
      ]
     },
     "execution_count": 6,
     "metadata": {},
     "output_type": "execute_result"
    }
   ],
   "source": [
    "X_train_trans"
   ]
  },
  {
   "cell_type": "code",
   "execution_count": 7,
   "metadata": {},
   "outputs": [],
   "source": [
    "def objective(params):\n",
    "    with mlflow.start_run(nested=True) as parent:\n",
    "        # log the current run parameters\n",
    "        mlflow.log_params(params)\n",
    "        # give the parameters as integers\n",
    "        max_depth = int(params['max_depth'])\n",
    "        n_estimators = int(params['n_estimators'])\n",
    "        # train the model\n",
    "        model = RandomForestClassifier(n_estimators=n_estimators,max_depth=max_depth)\n",
    "        model.fit(X_train_trans,y_train)\n",
    "        # get the accuracy score\n",
    "        y_pred = model.predict(X_test_trans)\n",
    "        # log the score\n",
    "        accuracy = accuracy_score(y_test,y_pred)\n",
    "        mlflow.log_metric('accuracy_score',accuracy)\n",
    "    return {'loss': -accuracy, 'status': STATUS_OK}"
   ]
  },
  {
   "cell_type": "code",
   "execution_count": 8,
   "metadata": {},
   "outputs": [],
   "source": [
    "# define the search space\n",
    "\n",
    "space = {\n",
    "    'n_estimators': hp.quniform('n_estimators', 50, 200, 10),\n",
    "    'max_depth': hp.quniform('max_depth', 5, 20, 1),\n",
    "    'criterion': hp.choice('criterion',['gini','entropy'])\n",
    "\n",
    "}"
   ]
  },
  {
   "cell_type": "code",
   "execution_count": 9,
   "metadata": {},
   "outputs": [
    {
     "name": "stdout",
     "output_type": "stream",
     "text": [
      "  0%|          | 0/50 [00:00<?, ?trial/s, best loss=?]"
     ]
    },
    {
     "name": "stderr",
     "output_type": "stream",
     "text": [
      "2024/09/22 23:41:20 INFO mlflow.tracking._tracking_service.client: 🏃 View run languid-shrew-265 at: http://127.0.0.1:5000/#/experiments/206175774612404824/runs/c2bb2e3a07744a16a2277f674c29611a.\n",
      "\n",
      "2024/09/22 23:41:20 INFO mlflow.tracking._tracking_service.client: 🧪 View experiment at: http://127.0.0.1:5000/#/experiments/206175774612404824.\n",
      "\n"
     ]
    },
    {
     "name": "stdout",
     "output_type": "stream",
     "text": [
      "  2%|▏         | 1/50 [00:00<00:43,  1.12trial/s, best loss: -1.0]"
     ]
    },
    {
     "name": "stderr",
     "output_type": "stream",
     "text": [
      "2024/09/22 23:41:21 INFO mlflow.tracking._tracking_service.client: 🏃 View run ambitious-fowl-307 at: http://127.0.0.1:5000/#/experiments/206175774612404824/runs/e36ecc48ab46404ca860c80267b11b56.\n",
      "\n",
      "2024/09/22 23:41:21 INFO mlflow.tracking._tracking_service.client: 🧪 View experiment at: http://127.0.0.1:5000/#/experiments/206175774612404824.\n",
      "\n"
     ]
    },
    {
     "name": "stdout",
     "output_type": "stream",
     "text": [
      "  4%|▍         | 2/50 [00:01<00:47,  1.02trial/s, best loss: -1.0]"
     ]
    },
    {
     "name": "stderr",
     "output_type": "stream",
     "text": [
      "2024/09/22 23:41:22 INFO mlflow.tracking._tracking_service.client: 🏃 View run defiant-skink-181 at: http://127.0.0.1:5000/#/experiments/206175774612404824/runs/d20cf585bde942e3a2b467a0fab3c5ea.\n",
      "\n",
      "2024/09/22 23:41:22 INFO mlflow.tracking._tracking_service.client: 🧪 View experiment at: http://127.0.0.1:5000/#/experiments/206175774612404824.\n",
      "\n"
     ]
    },
    {
     "name": "stdout",
     "output_type": "stream",
     "text": [
      "  6%|▌         | 3/50 [00:02<00:40,  1.17trial/s, best loss: -1.0]"
     ]
    },
    {
     "name": "stderr",
     "output_type": "stream",
     "text": [
      "2024/09/22 23:41:23 INFO mlflow.tracking._tracking_service.client: 🏃 View run loud-crab-29 at: http://127.0.0.1:5000/#/experiments/206175774612404824/runs/13691e5c2dc2410c8250b8fbdf29d4be.\n",
      "\n",
      "2024/09/22 23:41:23 INFO mlflow.tracking._tracking_service.client: 🧪 View experiment at: http://127.0.0.1:5000/#/experiments/206175774612404824.\n",
      "\n"
     ]
    },
    {
     "name": "stdout",
     "output_type": "stream",
     "text": [
      "  8%|▊         | 4/50 [00:03<00:39,  1.16trial/s, best loss: -1.0]"
     ]
    },
    {
     "name": "stderr",
     "output_type": "stream",
     "text": [
      "2024/09/22 23:41:24 INFO mlflow.tracking._tracking_service.client: 🏃 View run vaunted-worm-767 at: http://127.0.0.1:5000/#/experiments/206175774612404824/runs/bf809108c11047589f860466e528fd0a.\n",
      "\n",
      "2024/09/22 23:41:24 INFO mlflow.tracking._tracking_service.client: 🧪 View experiment at: http://127.0.0.1:5000/#/experiments/206175774612404824.\n",
      "\n"
     ]
    },
    {
     "name": "stdout",
     "output_type": "stream",
     "text": [
      " 10%|█         | 5/50 [00:04<00:42,  1.07trial/s, best loss: -1.0]"
     ]
    },
    {
     "name": "stderr",
     "output_type": "stream",
     "text": [
      "2024/09/22 23:41:25 INFO mlflow.tracking._tracking_service.client: 🏃 View run colorful-penguin-520 at: http://127.0.0.1:5000/#/experiments/206175774612404824/runs/9988a4b73d264edb9de30a2e0295eda0.\n",
      "\n",
      "2024/09/22 23:41:25 INFO mlflow.tracking._tracking_service.client: 🧪 View experiment at: http://127.0.0.1:5000/#/experiments/206175774612404824.\n",
      "\n"
     ]
    },
    {
     "name": "stdout",
     "output_type": "stream",
     "text": [
      " 12%|█▏        | 6/50 [00:05<00:40,  1.08trial/s, best loss: -1.0]"
     ]
    },
    {
     "name": "stderr",
     "output_type": "stream",
     "text": [
      "2024/09/22 23:41:26 INFO mlflow.tracking._tracking_service.client: 🏃 View run honorable-gnat-198 at: http://127.0.0.1:5000/#/experiments/206175774612404824/runs/7bc01af2c0f942419fa1dd702ae36624.\n",
      "\n",
      "2024/09/22 23:41:26 INFO mlflow.tracking._tracking_service.client: 🧪 View experiment at: http://127.0.0.1:5000/#/experiments/206175774612404824.\n",
      "\n"
     ]
    },
    {
     "name": "stdout",
     "output_type": "stream",
     "text": [
      " 14%|█▍        | 7/50 [00:06<00:38,  1.10trial/s, best loss: -1.0]"
     ]
    },
    {
     "name": "stderr",
     "output_type": "stream",
     "text": [
      "2024/09/22 23:41:26 INFO mlflow.tracking._tracking_service.client: 🏃 View run hilarious-yak-995 at: http://127.0.0.1:5000/#/experiments/206175774612404824/runs/915459016e044c249a974dc39981f7de.\n",
      "\n",
      "2024/09/22 23:41:26 INFO mlflow.tracking._tracking_service.client: 🧪 View experiment at: http://127.0.0.1:5000/#/experiments/206175774612404824.\n",
      "\n"
     ]
    },
    {
     "name": "stdout",
     "output_type": "stream",
     "text": [
      " 16%|█▌        | 8/50 [00:06<00:34,  1.22trial/s, best loss: -1.0]"
     ]
    },
    {
     "name": "stderr",
     "output_type": "stream",
     "text": [
      "2024/09/22 23:41:28 INFO mlflow.tracking._tracking_service.client: 🏃 View run big-turtle-548 at: http://127.0.0.1:5000/#/experiments/206175774612404824/runs/cf447f69639a41ea9528fff6b9502173.\n",
      "\n",
      "2024/09/22 23:41:28 INFO mlflow.tracking._tracking_service.client: 🧪 View experiment at: http://127.0.0.1:5000/#/experiments/206175774612404824.\n",
      "\n"
     ]
    },
    {
     "name": "stdout",
     "output_type": "stream",
     "text": [
      " 18%|█▊        | 9/50 [00:08<00:37,  1.08trial/s, best loss: -1.0]"
     ]
    },
    {
     "name": "stderr",
     "output_type": "stream",
     "text": [
      "2024/09/22 23:41:29 INFO mlflow.tracking._tracking_service.client: 🏃 View run dapper-seal-523 at: http://127.0.0.1:5000/#/experiments/206175774612404824/runs/7c0be3ef3f8145099c32cd3f558a9403.\n",
      "\n",
      "2024/09/22 23:41:29 INFO mlflow.tracking._tracking_service.client: 🧪 View experiment at: http://127.0.0.1:5000/#/experiments/206175774612404824.\n",
      "\n"
     ]
    },
    {
     "name": "stdout",
     "output_type": "stream",
     "text": [
      " 20%|██        | 10/50 [00:09<00:38,  1.03trial/s, best loss: -1.0]"
     ]
    },
    {
     "name": "stderr",
     "output_type": "stream",
     "text": [
      "2024/09/22 23:41:29 INFO mlflow.tracking._tracking_service.client: 🏃 View run welcoming-deer-451 at: http://127.0.0.1:5000/#/experiments/206175774612404824/runs/496c2e5216624644806328f574db9758.\n",
      "\n",
      "2024/09/22 23:41:29 INFO mlflow.tracking._tracking_service.client: 🧪 View experiment at: http://127.0.0.1:5000/#/experiments/206175774612404824.\n",
      "\n"
     ]
    },
    {
     "name": "stdout",
     "output_type": "stream",
     "text": [
      " 22%|██▏       | 11/50 [00:09<00:35,  1.10trial/s, best loss: -1.0]"
     ]
    },
    {
     "name": "stderr",
     "output_type": "stream",
     "text": [
      "2024/09/22 23:41:30 INFO mlflow.tracking._tracking_service.client: 🏃 View run treasured-boar-81 at: http://127.0.0.1:5000/#/experiments/206175774612404824/runs/97b26fe07ea74a9cb56783e134e5f89c.\n",
      "\n",
      "2024/09/22 23:41:30 INFO mlflow.tracking._tracking_service.client: 🧪 View experiment at: http://127.0.0.1:5000/#/experiments/206175774612404824.\n",
      "\n"
     ]
    },
    {
     "name": "stdout",
     "output_type": "stream",
     "text": [
      " 24%|██▍       | 12/50 [00:10<00:33,  1.13trial/s, best loss: -1.0]"
     ]
    },
    {
     "name": "stderr",
     "output_type": "stream",
     "text": [
      "2024/09/22 23:41:31 INFO mlflow.tracking._tracking_service.client: 🏃 View run omniscient-frog-350 at: http://127.0.0.1:5000/#/experiments/206175774612404824/runs/a4061ada31504b9c99063d483a2b15c0.\n",
      "\n",
      "2024/09/22 23:41:31 INFO mlflow.tracking._tracking_service.client: 🧪 View experiment at: http://127.0.0.1:5000/#/experiments/206175774612404824.\n",
      "\n"
     ]
    },
    {
     "name": "stdout",
     "output_type": "stream",
     "text": [
      " 26%|██▌       | 13/50 [00:11<00:30,  1.21trial/s, best loss: -1.0]"
     ]
    },
    {
     "name": "stderr",
     "output_type": "stream",
     "text": [
      "2024/09/22 23:41:32 INFO mlflow.tracking._tracking_service.client: 🏃 View run abrasive-dolphin-887 at: http://127.0.0.1:5000/#/experiments/206175774612404824/runs/5df9875f966540b595bbb4c32d3673e2.\n",
      "\n",
      "2024/09/22 23:41:32 INFO mlflow.tracking._tracking_service.client: 🧪 View experiment at: http://127.0.0.1:5000/#/experiments/206175774612404824.\n",
      "\n"
     ]
    },
    {
     "name": "stdout",
     "output_type": "stream",
     "text": [
      " 28%|██▊       | 14/50 [00:12<00:28,  1.25trial/s, best loss: -1.0]"
     ]
    },
    {
     "name": "stderr",
     "output_type": "stream",
     "text": [
      "2024/09/22 23:41:32 INFO mlflow.tracking._tracking_service.client: 🏃 View run masked-gull-798 at: http://127.0.0.1:5000/#/experiments/206175774612404824/runs/616bdad50324497f919ec4b1c99669a6.\n",
      "\n",
      "2024/09/22 23:41:32 INFO mlflow.tracking._tracking_service.client: 🧪 View experiment at: http://127.0.0.1:5000/#/experiments/206175774612404824.\n",
      "\n"
     ]
    },
    {
     "name": "stdout",
     "output_type": "stream",
     "text": [
      " 30%|███       | 15/50 [00:12<00:25,  1.35trial/s, best loss: -1.0]"
     ]
    },
    {
     "name": "stderr",
     "output_type": "stream",
     "text": [
      "2024/09/22 23:41:33 INFO mlflow.tracking._tracking_service.client: 🏃 View run fortunate-hog-269 at: http://127.0.0.1:5000/#/experiments/206175774612404824/runs/0300cd486244491eb4f474c669a44f8e.\n",
      "\n",
      "2024/09/22 23:41:33 INFO mlflow.tracking._tracking_service.client: 🧪 View experiment at: http://127.0.0.1:5000/#/experiments/206175774612404824.\n",
      "\n"
     ]
    },
    {
     "name": "stdout",
     "output_type": "stream",
     "text": [
      " 32%|███▏      | 16/50 [00:13<00:27,  1.24trial/s, best loss: -1.0]"
     ]
    },
    {
     "name": "stderr",
     "output_type": "stream",
     "text": [
      "2024/09/22 23:41:34 INFO mlflow.tracking._tracking_service.client: 🏃 View run polite-pig-219 at: http://127.0.0.1:5000/#/experiments/206175774612404824/runs/1fe3d6c44b494fa7a982437e6e354343.\n",
      "\n",
      "2024/09/22 23:41:34 INFO mlflow.tracking._tracking_service.client: 🧪 View experiment at: http://127.0.0.1:5000/#/experiments/206175774612404824.\n",
      "\n"
     ]
    },
    {
     "name": "stdout",
     "output_type": "stream",
     "text": [
      " 34%|███▍      | 17/50 [00:14<00:26,  1.26trial/s, best loss: -1.0]"
     ]
    },
    {
     "name": "stderr",
     "output_type": "stream",
     "text": [
      "2024/09/22 23:41:35 INFO mlflow.tracking._tracking_service.client: 🏃 View run omniscient-auk-177 at: http://127.0.0.1:5000/#/experiments/206175774612404824/runs/bba13dc226d84e1082d9ff8c34bb7f2a.\n",
      "\n",
      "2024/09/22 23:41:35 INFO mlflow.tracking._tracking_service.client: 🧪 View experiment at: http://127.0.0.1:5000/#/experiments/206175774612404824.\n",
      "\n"
     ]
    },
    {
     "name": "stdout",
     "output_type": "stream",
     "text": [
      " 36%|███▌      | 18/50 [00:15<00:23,  1.34trial/s, best loss: -1.0]"
     ]
    },
    {
     "name": "stderr",
     "output_type": "stream",
     "text": [
      "2024/09/22 23:41:35 INFO mlflow.tracking._tracking_service.client: 🏃 View run wistful-zebra-810 at: http://127.0.0.1:5000/#/experiments/206175774612404824/runs/dcaa8090e0aa427caf085ba99a894f95.\n",
      "\n",
      "2024/09/22 23:41:35 INFO mlflow.tracking._tracking_service.client: 🧪 View experiment at: http://127.0.0.1:5000/#/experiments/206175774612404824.\n",
      "\n"
     ]
    },
    {
     "name": "stdout",
     "output_type": "stream",
     "text": [
      " 38%|███▊      | 19/50 [00:15<00:19,  1.57trial/s, best loss: -1.0]"
     ]
    },
    {
     "name": "stderr",
     "output_type": "stream",
     "text": [
      "2024/09/22 23:41:36 INFO mlflow.tracking._tracking_service.client: 🏃 View run learned-roo-430 at: http://127.0.0.1:5000/#/experiments/206175774612404824/runs/79aff9e480dd41fdb81ed8b0c2b37a6d.\n",
      "\n",
      "2024/09/22 23:41:36 INFO mlflow.tracking._tracking_service.client: 🧪 View experiment at: http://127.0.0.1:5000/#/experiments/206175774612404824.\n",
      "\n"
     ]
    },
    {
     "name": "stdout",
     "output_type": "stream",
     "text": [
      " 40%|████      | 20/50 [00:16<00:21,  1.40trial/s, best loss: -1.0]"
     ]
    },
    {
     "name": "stderr",
     "output_type": "stream",
     "text": [
      "2024/09/22 23:41:36 INFO mlflow.tracking._tracking_service.client: 🏃 View run kindly-deer-255 at: http://127.0.0.1:5000/#/experiments/206175774612404824/runs/f171151fe06d4056a434bd2b41ecec1f.\n",
      "\n",
      "2024/09/22 23:41:36 INFO mlflow.tracking._tracking_service.client: 🧪 View experiment at: http://127.0.0.1:5000/#/experiments/206175774612404824.\n",
      "\n"
     ]
    },
    {
     "name": "stdout",
     "output_type": "stream",
     "text": [
      " 42%|████▏     | 21/50 [00:17<00:19,  1.53trial/s, best loss: -1.0]"
     ]
    },
    {
     "name": "stderr",
     "output_type": "stream",
     "text": [
      "2024/09/22 23:41:37 INFO mlflow.tracking._tracking_service.client: 🏃 View run adaptable-bass-280 at: http://127.0.0.1:5000/#/experiments/206175774612404824/runs/2f3f7b707c244ec0baccd27f8ca5378b.\n",
      "\n",
      "2024/09/22 23:41:37 INFO mlflow.tracking._tracking_service.client: 🧪 View experiment at: http://127.0.0.1:5000/#/experiments/206175774612404824.\n",
      "\n"
     ]
    },
    {
     "name": "stdout",
     "output_type": "stream",
     "text": [
      " 44%|████▍     | 22/50 [00:17<00:17,  1.64trial/s, best loss: -1.0]"
     ]
    },
    {
     "name": "stderr",
     "output_type": "stream",
     "text": [
      "2024/09/22 23:41:38 INFO mlflow.tracking._tracking_service.client: 🏃 View run salty-grub-100 at: http://127.0.0.1:5000/#/experiments/206175774612404824/runs/8aa0e9902ef945bba65ddb3d61dfff08.\n",
      "\n",
      "2024/09/22 23:41:38 INFO mlflow.tracking._tracking_service.client: 🧪 View experiment at: http://127.0.0.1:5000/#/experiments/206175774612404824.\n",
      "\n"
     ]
    },
    {
     "name": "stdout",
     "output_type": "stream",
     "text": [
      " 46%|████▌     | 23/50 [00:18<00:19,  1.40trial/s, best loss: -1.0]"
     ]
    },
    {
     "name": "stderr",
     "output_type": "stream",
     "text": [
      "2024/09/22 23:41:39 INFO mlflow.tracking._tracking_service.client: 🏃 View run auspicious-hen-432 at: http://127.0.0.1:5000/#/experiments/206175774612404824/runs/08db91251dc448b6a6794dc519a96b4f.\n",
      "\n",
      "2024/09/22 23:41:39 INFO mlflow.tracking._tracking_service.client: 🧪 View experiment at: http://127.0.0.1:5000/#/experiments/206175774612404824.\n",
      "\n"
     ]
    },
    {
     "name": "stdout",
     "output_type": "stream",
     "text": [
      " 48%|████▊     | 24/50 [00:19<00:19,  1.35trial/s, best loss: -1.0]"
     ]
    },
    {
     "name": "stderr",
     "output_type": "stream",
     "text": [
      "2024/09/22 23:41:39 INFO mlflow.tracking._tracking_service.client: 🏃 View run aged-eel-403 at: http://127.0.0.1:5000/#/experiments/206175774612404824/runs/f16558962aa74155bac61fddd11a2cd9.\n",
      "\n",
      "2024/09/22 23:41:39 INFO mlflow.tracking._tracking_service.client: 🧪 View experiment at: http://127.0.0.1:5000/#/experiments/206175774612404824.\n",
      "\n"
     ]
    },
    {
     "name": "stdout",
     "output_type": "stream",
     "text": [
      " 50%|█████     | 25/50 [00:19<00:17,  1.42trial/s, best loss: -1.0]"
     ]
    },
    {
     "name": "stderr",
     "output_type": "stream",
     "text": [
      "2024/09/22 23:41:40 INFO mlflow.tracking._tracking_service.client: 🏃 View run masked-wasp-816 at: http://127.0.0.1:5000/#/experiments/206175774612404824/runs/7f889d55ac05406f8c3fc8a1a6073e6e.\n",
      "\n",
      "2024/09/22 23:41:40 INFO mlflow.tracking._tracking_service.client: 🧪 View experiment at: http://127.0.0.1:5000/#/experiments/206175774612404824.\n",
      "\n"
     ]
    },
    {
     "name": "stdout",
     "output_type": "stream",
     "text": [
      " 52%|█████▏    | 26/50 [00:20<00:16,  1.46trial/s, best loss: -1.0]"
     ]
    },
    {
     "name": "stderr",
     "output_type": "stream",
     "text": [
      "2024/09/22 23:41:41 INFO mlflow.tracking._tracking_service.client: 🏃 View run vaunted-dolphin-122 at: http://127.0.0.1:5000/#/experiments/206175774612404824/runs/ace7674fc5954d458ab9b3434697f5d1.\n",
      "\n",
      "2024/09/22 23:41:41 INFO mlflow.tracking._tracking_service.client: 🧪 View experiment at: http://127.0.0.1:5000/#/experiments/206175774612404824.\n",
      "\n"
     ]
    },
    {
     "name": "stdout",
     "output_type": "stream",
     "text": [
      " 54%|█████▍    | 27/50 [00:21<00:16,  1.40trial/s, best loss: -1.0]"
     ]
    },
    {
     "name": "stderr",
     "output_type": "stream",
     "text": [
      "2024/09/22 23:41:42 INFO mlflow.tracking._tracking_service.client: 🏃 View run enchanting-asp-693 at: http://127.0.0.1:5000/#/experiments/206175774612404824/runs/a9fbfeabdcf1425495a495f1d701d2d5.\n",
      "\n",
      "2024/09/22 23:41:42 INFO mlflow.tracking._tracking_service.client: 🧪 View experiment at: http://127.0.0.1:5000/#/experiments/206175774612404824.\n",
      "\n"
     ]
    },
    {
     "name": "stdout",
     "output_type": "stream",
     "text": [
      " 56%|█████▌    | 28/50 [00:22<00:17,  1.28trial/s, best loss: -1.0]"
     ]
    },
    {
     "name": "stderr",
     "output_type": "stream",
     "text": [
      "2024/09/22 23:41:42 INFO mlflow.tracking._tracking_service.client: 🏃 View run stately-cub-341 at: http://127.0.0.1:5000/#/experiments/206175774612404824/runs/ac243cf82f5d49b19075cb2a0e841978.\n",
      "\n",
      "2024/09/22 23:41:42 INFO mlflow.tracking._tracking_service.client: 🧪 View experiment at: http://127.0.0.1:5000/#/experiments/206175774612404824.\n",
      "\n"
     ]
    },
    {
     "name": "stdout",
     "output_type": "stream",
     "text": [
      " 58%|█████▊    | 29/50 [00:22<00:15,  1.39trial/s, best loss: -1.0]"
     ]
    },
    {
     "name": "stderr",
     "output_type": "stream",
     "text": [
      "2024/09/22 23:41:43 INFO mlflow.tracking._tracking_service.client: 🏃 View run bemused-gnat-532 at: http://127.0.0.1:5000/#/experiments/206175774612404824/runs/0bb6002244214e6a976f5d022ea3bdaf.\n",
      "\n",
      "2024/09/22 23:41:43 INFO mlflow.tracking._tracking_service.client: 🧪 View experiment at: http://127.0.0.1:5000/#/experiments/206175774612404824.\n",
      "\n"
     ]
    },
    {
     "name": "stdout",
     "output_type": "stream",
     "text": [
      " 60%|██████    | 30/50 [00:23<00:14,  1.37trial/s, best loss: -1.0]"
     ]
    },
    {
     "name": "stderr",
     "output_type": "stream",
     "text": [
      "2024/09/22 23:41:44 INFO mlflow.tracking._tracking_service.client: 🏃 View run rogue-skink-880 at: http://127.0.0.1:5000/#/experiments/206175774612404824/runs/9ad008a2fa1842aba352ce0f7e1f6feb.\n",
      "\n",
      "2024/09/22 23:41:44 INFO mlflow.tracking._tracking_service.client: 🧪 View experiment at: http://127.0.0.1:5000/#/experiments/206175774612404824.\n",
      "\n"
     ]
    },
    {
     "name": "stdout",
     "output_type": "stream",
     "text": [
      " 62%|██████▏   | 31/50 [00:24<00:14,  1.30trial/s, best loss: -1.0]"
     ]
    },
    {
     "name": "stderr",
     "output_type": "stream",
     "text": [
      "2024/09/22 23:41:45 INFO mlflow.tracking._tracking_service.client: 🏃 View run exultant-pug-658 at: http://127.0.0.1:5000/#/experiments/206175774612404824/runs/4928246a10cf44c3a5885729767ed65c.\n",
      "\n",
      "2024/09/22 23:41:45 INFO mlflow.tracking._tracking_service.client: 🧪 View experiment at: http://127.0.0.1:5000/#/experiments/206175774612404824.\n",
      "\n"
     ]
    },
    {
     "name": "stdout",
     "output_type": "stream",
     "text": [
      " 64%|██████▍   | 32/50 [00:25<00:13,  1.37trial/s, best loss: -1.0]"
     ]
    },
    {
     "name": "stderr",
     "output_type": "stream",
     "text": [
      "2024/09/22 23:41:45 INFO mlflow.tracking._tracking_service.client: 🏃 View run wistful-crow-289 at: http://127.0.0.1:5000/#/experiments/206175774612404824/runs/930840e668214cfb925379b5debcb679.\n",
      "\n",
      "2024/09/22 23:41:45 INFO mlflow.tracking._tracking_service.client: 🧪 View experiment at: http://127.0.0.1:5000/#/experiments/206175774612404824.\n",
      "\n"
     ]
    },
    {
     "name": "stdout",
     "output_type": "stream",
     "text": [
      " 66%|██████▌   | 33/50 [00:25<00:10,  1.57trial/s, best loss: -1.0]"
     ]
    },
    {
     "name": "stderr",
     "output_type": "stream",
     "text": [
      "2024/09/22 23:41:46 INFO mlflow.tracking._tracking_service.client: 🏃 View run treasured-rat-105 at: http://127.0.0.1:5000/#/experiments/206175774612404824/runs/a3b4a960ee7941c896815a535d1aa72d.\n",
      "\n",
      "2024/09/22 23:41:46 INFO mlflow.tracking._tracking_service.client: 🧪 View experiment at: http://127.0.0.1:5000/#/experiments/206175774612404824.\n",
      "\n"
     ]
    },
    {
     "name": "stdout",
     "output_type": "stream",
     "text": [
      " 68%|██████▊   | 34/50 [00:26<00:10,  1.54trial/s, best loss: -1.0]"
     ]
    },
    {
     "name": "stderr",
     "output_type": "stream",
     "text": [
      "2024/09/22 23:41:46 INFO mlflow.tracking._tracking_service.client: 🏃 View run sincere-steed-958 at: http://127.0.0.1:5000/#/experiments/206175774612404824/runs/55f9e6db9c9c404ea8b76e47801dc7b1.\n",
      "\n",
      "2024/09/22 23:41:46 INFO mlflow.tracking._tracking_service.client: 🧪 View experiment at: http://127.0.0.1:5000/#/experiments/206175774612404824.\n",
      "\n"
     ]
    },
    {
     "name": "stdout",
     "output_type": "stream",
     "text": [
      " 70%|███████   | 35/50 [00:26<00:09,  1.59trial/s, best loss: -1.0]"
     ]
    },
    {
     "name": "stderr",
     "output_type": "stream",
     "text": [
      "2024/09/22 23:41:48 INFO mlflow.tracking._tracking_service.client: 🏃 View run popular-ray-677 at: http://127.0.0.1:5000/#/experiments/206175774612404824/runs/67bf75ddb9e54018928fcfd76969fd7a.\n",
      "\n",
      "2024/09/22 23:41:48 INFO mlflow.tracking._tracking_service.client: 🧪 View experiment at: http://127.0.0.1:5000/#/experiments/206175774612404824.\n",
      "\n"
     ]
    },
    {
     "name": "stdout",
     "output_type": "stream",
     "text": [
      " 72%|███████▏  | 36/50 [00:28<00:12,  1.10trial/s, best loss: -1.0]"
     ]
    },
    {
     "name": "stderr",
     "output_type": "stream",
     "text": [
      "2024/09/22 23:41:49 INFO mlflow.tracking._tracking_service.client: 🏃 View run loud-snail-606 at: http://127.0.0.1:5000/#/experiments/206175774612404824/runs/d5cdc20e1cea421c91eb28cfc832519c.\n",
      "\n",
      "2024/09/22 23:41:49 INFO mlflow.tracking._tracking_service.client: 🧪 View experiment at: http://127.0.0.1:5000/#/experiments/206175774612404824.\n",
      "\n"
     ]
    },
    {
     "name": "stdout",
     "output_type": "stream",
     "text": [
      " 74%|███████▍  | 37/50 [00:29<00:12,  1.03trial/s, best loss: -1.0]"
     ]
    },
    {
     "name": "stderr",
     "output_type": "stream",
     "text": [
      "2024/09/22 23:41:49 INFO mlflow.tracking._tracking_service.client: 🏃 View run unleashed-conch-43 at: http://127.0.0.1:5000/#/experiments/206175774612404824/runs/dab1c87eaff24be78595ebd38b0a7d55.\n",
      "\n",
      "2024/09/22 23:41:49 INFO mlflow.tracking._tracking_service.client: 🧪 View experiment at: http://127.0.0.1:5000/#/experiments/206175774612404824.\n",
      "\n"
     ]
    },
    {
     "name": "stdout",
     "output_type": "stream",
     "text": [
      " 76%|███████▌  | 38/50 [00:30<00:10,  1.14trial/s, best loss: -1.0]"
     ]
    },
    {
     "name": "stderr",
     "output_type": "stream",
     "text": [
      "2024/09/22 23:41:51 INFO mlflow.tracking._tracking_service.client: 🏃 View run upbeat-seal-409 at: http://127.0.0.1:5000/#/experiments/206175774612404824/runs/227cd96cba4e4fdeb588125c11143bed.\n",
      "\n",
      "2024/09/22 23:41:51 INFO mlflow.tracking._tracking_service.client: 🧪 View experiment at: http://127.0.0.1:5000/#/experiments/206175774612404824.\n",
      "\n"
     ]
    },
    {
     "name": "stdout",
     "output_type": "stream",
     "text": [
      " 78%|███████▊  | 39/50 [00:31<00:10,  1.09trial/s, best loss: -1.0]"
     ]
    },
    {
     "name": "stderr",
     "output_type": "stream",
     "text": [
      "2024/09/22 23:41:52 INFO mlflow.tracking._tracking_service.client: 🏃 View run kindly-hare-627 at: http://127.0.0.1:5000/#/experiments/206175774612404824/runs/579e4be6715f4c0a96be507cfe20d85b.\n",
      "\n",
      "2024/09/22 23:41:52 INFO mlflow.tracking._tracking_service.client: 🧪 View experiment at: http://127.0.0.1:5000/#/experiments/206175774612404824.\n",
      "\n"
     ]
    },
    {
     "name": "stdout",
     "output_type": "stream",
     "text": [
      " 80%|████████  | 40/50 [00:32<00:09,  1.03trial/s, best loss: -1.0]"
     ]
    },
    {
     "name": "stderr",
     "output_type": "stream",
     "text": [
      "2024/09/22 23:41:52 INFO mlflow.tracking._tracking_service.client: 🏃 View run nebulous-skunk-958 at: http://127.0.0.1:5000/#/experiments/206175774612404824/runs/5514ee616d254a4f918401f07d541cc1.\n",
      "\n",
      "2024/09/22 23:41:52 INFO mlflow.tracking._tracking_service.client: 🧪 View experiment at: http://127.0.0.1:5000/#/experiments/206175774612404824.\n",
      "\n"
     ]
    },
    {
     "name": "stdout",
     "output_type": "stream",
     "text": [
      " 82%|████████▏ | 41/50 [00:33<00:08,  1.08trial/s, best loss: -1.0]"
     ]
    },
    {
     "name": "stderr",
     "output_type": "stream",
     "text": [
      "2024/09/22 23:41:54 INFO mlflow.tracking._tracking_service.client: 🏃 View run stylish-elk-363 at: http://127.0.0.1:5000/#/experiments/206175774612404824/runs/dc4d48b3fbb0496896834b0624f3f798.\n",
      "\n",
      "2024/09/22 23:41:54 INFO mlflow.tracking._tracking_service.client: 🧪 View experiment at: http://127.0.0.1:5000/#/experiments/206175774612404824.\n",
      "\n"
     ]
    },
    {
     "name": "stdout",
     "output_type": "stream",
     "text": [
      " 84%|████████▍ | 42/50 [00:34<00:08,  1.11s/trial, best loss: -1.0]"
     ]
    },
    {
     "name": "stderr",
     "output_type": "stream",
     "text": [
      "2024/09/22 23:41:55 INFO mlflow.tracking._tracking_service.client: 🏃 View run bittersweet-crow-795 at: http://127.0.0.1:5000/#/experiments/206175774612404824/runs/30379190d74c425a85d706c0f451c0e5.\n",
      "\n",
      "2024/09/22 23:41:55 INFO mlflow.tracking._tracking_service.client: 🧪 View experiment at: http://127.0.0.1:5000/#/experiments/206175774612404824.\n",
      "\n"
     ]
    },
    {
     "name": "stdout",
     "output_type": "stream",
     "text": [
      " 86%|████████▌ | 43/50 [00:35<00:07,  1.05s/trial, best loss: -1.0]"
     ]
    },
    {
     "name": "stderr",
     "output_type": "stream",
     "text": [
      "2024/09/22 23:41:56 INFO mlflow.tracking._tracking_service.client: 🏃 View run inquisitive-gnat-278 at: http://127.0.0.1:5000/#/experiments/206175774612404824/runs/14bde275d4094763951d78dfd3959f8e.\n",
      "\n",
      "2024/09/22 23:41:56 INFO mlflow.tracking._tracking_service.client: 🧪 View experiment at: http://127.0.0.1:5000/#/experiments/206175774612404824.\n",
      "\n"
     ]
    },
    {
     "name": "stdout",
     "output_type": "stream",
     "text": [
      " 88%|████████▊ | 44/50 [00:36<00:06,  1.06s/trial, best loss: -1.0]"
     ]
    },
    {
     "name": "stderr",
     "output_type": "stream",
     "text": [
      "2024/09/22 23:41:57 INFO mlflow.tracking._tracking_service.client: 🏃 View run wistful-ray-923 at: http://127.0.0.1:5000/#/experiments/206175774612404824/runs/788b92fb526e4c428b2aa0b0495f1781.\n",
      "\n",
      "2024/09/22 23:41:57 INFO mlflow.tracking._tracking_service.client: 🧪 View experiment at: http://127.0.0.1:5000/#/experiments/206175774612404824.\n",
      "\n"
     ]
    },
    {
     "name": "stdout",
     "output_type": "stream",
     "text": [
      " 90%|█████████ | 45/50 [00:37<00:05,  1.07s/trial, best loss: -1.0]"
     ]
    },
    {
     "name": "stderr",
     "output_type": "stream",
     "text": [
      "2024/09/22 23:41:58 INFO mlflow.tracking._tracking_service.client: 🏃 View run rogue-yak-531 at: http://127.0.0.1:5000/#/experiments/206175774612404824/runs/af432dbd817b461695a513dcc6208630.\n",
      "\n",
      "2024/09/22 23:41:58 INFO mlflow.tracking._tracking_service.client: 🧪 View experiment at: http://127.0.0.1:5000/#/experiments/206175774612404824.\n",
      "\n"
     ]
    },
    {
     "name": "stdout",
     "output_type": "stream",
     "text": [
      " 92%|█████████▏| 46/50 [00:38<00:04,  1.01s/trial, best loss: -1.0]"
     ]
    },
    {
     "name": "stderr",
     "output_type": "stream",
     "text": [
      "2024/09/22 23:41:59 INFO mlflow.tracking._tracking_service.client: 🏃 View run honorable-crab-113 at: http://127.0.0.1:5000/#/experiments/206175774612404824/runs/2a26d6596ce941d8a0ea14b7acd355ef.\n",
      "\n",
      "2024/09/22 23:41:59 INFO mlflow.tracking._tracking_service.client: 🧪 View experiment at: http://127.0.0.1:5000/#/experiments/206175774612404824.\n",
      "\n"
     ]
    },
    {
     "name": "stdout",
     "output_type": "stream",
     "text": [
      " 94%|█████████▍| 47/50 [00:39<00:02,  1.01trial/s, best loss: -1.0]"
     ]
    },
    {
     "name": "stderr",
     "output_type": "stream",
     "text": [
      "2024/09/22 23:42:00 INFO mlflow.tracking._tracking_service.client: 🏃 View run capable-snail-191 at: http://127.0.0.1:5000/#/experiments/206175774612404824/runs/6a2a0cb463434a6481256bff190d10c5.\n",
      "\n",
      "2024/09/22 23:42:00 INFO mlflow.tracking._tracking_service.client: 🧪 View experiment at: http://127.0.0.1:5000/#/experiments/206175774612404824.\n",
      "\n"
     ]
    },
    {
     "name": "stdout",
     "output_type": "stream",
     "text": [
      " 96%|█████████▌| 48/50 [00:40<00:02,  1.02s/trial, best loss: -1.0]"
     ]
    },
    {
     "name": "stderr",
     "output_type": "stream",
     "text": [
      "2024/09/22 23:42:01 INFO mlflow.tracking._tracking_service.client: 🏃 View run wistful-hare-207 at: http://127.0.0.1:5000/#/experiments/206175774612404824/runs/e6ee29bbf4ff41ec9a5f0dc02f184e24.\n",
      "\n",
      "2024/09/22 23:42:01 INFO mlflow.tracking._tracking_service.client: 🧪 View experiment at: http://127.0.0.1:5000/#/experiments/206175774612404824.\n",
      "\n"
     ]
    },
    {
     "name": "stdout",
     "output_type": "stream",
     "text": [
      " 98%|█████████▊| 49/50 [00:41<00:00,  1.02trial/s, best loss: -1.0]"
     ]
    },
    {
     "name": "stderr",
     "output_type": "stream",
     "text": [
      "2024/09/22 23:42:02 INFO mlflow.tracking._tracking_service.client: 🏃 View run whimsical-shoat-712 at: http://127.0.0.1:5000/#/experiments/206175774612404824/runs/0792b4aa3b75471cb81f50ce1e4c82ac.\n",
      "\n",
      "2024/09/22 23:42:02 INFO mlflow.tracking._tracking_service.client: 🧪 View experiment at: http://127.0.0.1:5000/#/experiments/206175774612404824.\n",
      "\n"
     ]
    },
    {
     "name": "stdout",
     "output_type": "stream",
     "text": [
      "100%|██████████| 50/50 [00:42<00:00,  1.18trial/s, best loss: -1.0]"
     ]
    },
    {
     "name": "stderr",
     "output_type": "stream",
     "text": [
      "2024/09/22 23:42:02 INFO mlflow.tracking._tracking_service.client: 🏃 View run Main Run at: http://127.0.0.1:5000/#/experiments/206175774612404824/runs/bba8598a9ff3471d9210ded4cceebc73.\n",
      "2024/09/22 23:42:02 INFO mlflow.tracking._tracking_service.client: 🧪 View experiment at: http://127.0.0.1:5000/#/experiments/206175774612404824.\n"
     ]
    },
    {
     "name": "stdout",
     "output_type": "stream",
     "text": [
      "\n"
     ]
    }
   ],
   "source": [
    "# set the tracking uri\n",
    "\n",
    "mlflow.set_tracking_uri(\"http://127.0.0.1:5000\")\n",
    "\n",
    "mlflow.set_experiment(\"HP Tuning Hyperopt\")\n",
    "\n",
    "with mlflow.start_run(run_name='Main Run'):\n",
    "    # set the fmin function\n",
    "    trials = Trials()\n",
    "    \n",
    "    best = fmin(fn=objective, \n",
    "                space=space, \n",
    "                algo=tpe.suggest, \n",
    "                max_evals=50, \n",
    "                trials=trials)"
   ]
  },
  {
   "cell_type": "code",
   "execution_count": 10,
   "metadata": {},
   "outputs": [
    {
     "data": {
      "text/plain": [
       "{'criterion': np.int64(1),\n",
       " 'max_depth': np.float64(12.0),\n",
       " 'n_estimators': np.float64(100.0)}"
      ]
     },
     "execution_count": 10,
     "metadata": {},
     "output_type": "execute_result"
    }
   ],
   "source": [
    "best"
   ]
  },
  {
   "cell_type": "code",
   "execution_count": null,
   "metadata": {},
   "outputs": [],
   "source": []
  }
 ],
 "metadata": {
  "kernelspec": {
   "display_name": "mlflow_env",
   "language": "python",
   "name": "python3"
  },
  "language_info": {
   "codemirror_mode": {
    "name": "ipython",
    "version": 3
   },
   "file_extension": ".py",
   "mimetype": "text/x-python",
   "name": "python",
   "nbconvert_exporter": "python",
   "pygments_lexer": "ipython3",
   "version": "3.10.14"
  }
 },
 "nbformat": 4,
 "nbformat_minor": 2
}
